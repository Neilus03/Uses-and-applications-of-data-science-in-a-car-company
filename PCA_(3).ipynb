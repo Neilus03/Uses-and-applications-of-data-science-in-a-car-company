{
  "nbformat": 4,
  "nbformat_minor": 0,
  "metadata": {
    "colab": {
      "name": "PCA (3).ipynb",
      "provenance": [],
      "collapsed_sections": []
    },
    "kernelspec": {
      "name": "python3",
      "display_name": "Python 3"
    },
    "language_info": {
      "name": "python"
    }
  },
  "cells": [
    {
      "cell_type": "code",
      "source": [
        "import matplotlib.pyplot as plt\n",
        "import numpy as np\n",
        "import pandas as pd\n",
        "from sklearn.decomposition import PCA\n",
        "from sklearn import preprocessing\n",
        "import matplotlib.pyplot as plt"
      ],
      "metadata": {
        "id": "EevmOobn1AfQ"
      },
      "execution_count": null,
      "outputs": []
    },
    {
      "cell_type": "code",
      "source": [
        "df = pd.read_csv(\"coches_dataset2.csv.csv\")\n",
        "df.info()"
      ],
      "metadata": {
        "colab": {
          "base_uri": "https://localhost:8080/"
        },
        "id": "WeNmaOXI2ZeS",
        "outputId": "62910a48-2b8b-4098-a936-ca1ebcb697e4"
      },
      "execution_count": null,
      "outputs": [
        {
          "output_type": "stream",
          "name": "stdout",
          "text": [
            "<class 'pandas.core.frame.DataFrame'>\n",
            "RangeIndex: 38531 entries, 0 to 38530\n",
            "Data columns (total 30 columns):\n",
            " #   Column             Non-Null Count  Dtype  \n",
            "---  ------             --------------  -----  \n",
            " 0   manufacturer_name  38531 non-null  object \n",
            " 1   model_name         38531 non-null  object \n",
            " 2   transmission       38531 non-null  object \n",
            " 3   color              38531 non-null  object \n",
            " 4   odometer_value     38531 non-null  int64  \n",
            " 5   year_produced      38531 non-null  int64  \n",
            " 6   engine_fuel        38531 non-null  object \n",
            " 7   engine_has_gas     38531 non-null  bool   \n",
            " 8   engine_type        38531 non-null  object \n",
            " 9   engine_capacity    38521 non-null  float64\n",
            " 10  body_type          38531 non-null  object \n",
            " 11  has_warranty       38531 non-null  bool   \n",
            " 12  state              38531 non-null  object \n",
            " 13  drivetrain         38531 non-null  object \n",
            " 14  price_usd          38531 non-null  float64\n",
            " 15  is_exchangeable    38531 non-null  bool   \n",
            " 16  location_region    38531 non-null  object \n",
            " 17  number_of_photos   38531 non-null  int64  \n",
            " 18  up_counter         38531 non-null  int64  \n",
            " 19  feature_0          38531 non-null  bool   \n",
            " 20  feature_1          38531 non-null  bool   \n",
            " 21  feature_2          38531 non-null  bool   \n",
            " 22  feature_3          38531 non-null  bool   \n",
            " 23  feature_4          38531 non-null  bool   \n",
            " 24  feature_5          38531 non-null  bool   \n",
            " 25  feature_6          38531 non-null  bool   \n",
            " 26  feature_7          38531 non-null  bool   \n",
            " 27  feature_8          38531 non-null  bool   \n",
            " 28  feature_9          38531 non-null  bool   \n",
            " 29  duration_listed    38531 non-null  int64  \n",
            "dtypes: bool(13), float64(2), int64(5), object(10)\n",
            "memory usage: 5.5+ MB\n"
          ]
        }
      ]
    },
    {
      "cell_type": "code",
      "source": [
        "\n",
        "\n",
        "#the dataset came with some undefined boolean variables, so let´s erase them \n",
        "#because it will be impossible to use them, we´ll also erase the location region\n",
        "#due to its illegibility\n",
        "\n",
        "#In this case as I only want to have numerical variables, I will also drop all tbhe categorical.\n",
        "df = df.drop([\"manufacturer_name\", \"model_name\",\"feature_0\",\"feature_1\", \"feature_2\", \"feature_3\", \"feature_4\",\n",
        "              \"feature_5\", \"feature_5\", \"feature_6\", \"feature_7\", \"feature_8\", \n",
        "              \"feature_8\", \"feature_9\", \"location_region\", \"is_exchangeable\", \"drivetrain\",\n",
        "              \"state\", \"has_warranty\", \"body_type\", \"color\", \"transmission\", \"model_name\",\n",
        "              \"manufacturer_name\", \"engine_fuel\", \"engine_has_gas\", \"engine_type\"], axis = 1)\n",
        "\n",
        "df.info()"
      ],
      "metadata": {
        "colab": {
          "base_uri": "https://localhost:8080/"
        },
        "id": "j3xneBsd1hW-",
        "outputId": "61dedf51-01db-4b04-a5f9-e1b1bdb3cdda"
      },
      "execution_count": null,
      "outputs": [
        {
          "output_type": "stream",
          "name": "stdout",
          "text": [
            "<class 'pandas.core.frame.DataFrame'>\n",
            "RangeIndex: 38531 entries, 0 to 38530\n",
            "Data columns (total 7 columns):\n",
            " #   Column            Non-Null Count  Dtype  \n",
            "---  ------            --------------  -----  \n",
            " 0   odometer_value    38531 non-null  int64  \n",
            " 1   year_produced     38531 non-null  int64  \n",
            " 2   engine_capacity   38521 non-null  float64\n",
            " 3   price_usd         38531 non-null  float64\n",
            " 4   number_of_photos  38531 non-null  int64  \n",
            " 5   up_counter        38531 non-null  int64  \n",
            " 6   duration_listed   38531 non-null  int64  \n",
            "dtypes: float64(2), int64(5)\n",
            "memory usage: 2.1 MB\n"
          ]
        }
      ]
    },
    {
      "cell_type": "code",
      "source": [
        "#Get some more info about the variables in the dataframe:\n",
        "df.info()\n",
        "\n",
        "#Know if there is any null value:\n",
        "df.isnull().values.any() \n",
        "\n",
        "#Now how many null values are there in the variable where there are null values:\n",
        "print(df['duration_listed'].isnull().sum())\n",
        "print(df['engine_capacity'].isnull().sum())\n",
        "#There is 1 nan in \"duration_listed\" variable and 10 in engine_capacity.\n",
        "\n",
        "#Fill nan´s with the mean average of the respective variable\n",
        "df['duration_listed'].fillna((df['duration_listed'].mean()), inplace=True)\n",
        "df['engine_capacity'].fillna((df['engine_capacity'].mean()), inplace=True)\n",
        "#Recheck if there is any null value\n",
        "print(df.isnull().values.any())\n",
        "\n",
        "df.head(5)"
      ],
      "metadata": {
        "colab": {
          "base_uri": "https://localhost:8080/",
          "height": 501
        },
        "id": "WLmwMFoi1AiC",
        "outputId": "62a02b29-d8bf-45c8-baad-ca4804490dd1"
      },
      "execution_count": null,
      "outputs": [
        {
          "output_type": "stream",
          "name": "stdout",
          "text": [
            "<class 'pandas.core.frame.DataFrame'>\n",
            "RangeIndex: 38531 entries, 0 to 38530\n",
            "Data columns (total 7 columns):\n",
            " #   Column            Non-Null Count  Dtype  \n",
            "---  ------            --------------  -----  \n",
            " 0   odometer_value    38531 non-null  int64  \n",
            " 1   year_produced     38531 non-null  int64  \n",
            " 2   engine_capacity   38521 non-null  float64\n",
            " 3   price_usd         38531 non-null  float64\n",
            " 4   number_of_photos  38531 non-null  int64  \n",
            " 5   up_counter        38531 non-null  int64  \n",
            " 6   duration_listed   38531 non-null  int64  \n",
            "dtypes: float64(2), int64(5)\n",
            "memory usage: 2.1 MB\n",
            "0\n",
            "10\n",
            "False\n"
          ]
        },
        {
          "output_type": "execute_result",
          "data": {
            "text/plain": [
              "   odometer_value  year_produced  engine_capacity  price_usd  \\\n",
              "0          190000           2010              2.5   10900.00   \n",
              "1          290000           2002              3.0    5000.00   \n",
              "2          402000           2001              2.5    2800.00   \n",
              "3           10000           1999              3.0    9999.00   \n",
              "4          280000           2001              2.5    2134.11   \n",
              "\n",
              "   number_of_photos  up_counter  duration_listed  \n",
              "0                 9          13               16  \n",
              "1                12          54               83  \n",
              "2                 4          72              151  \n",
              "3                 9          42               86  \n",
              "4                14           7                7  "
            ],
            "text/html": [
              "\n",
              "  <div id=\"df-621a7f54-c004-440f-a79e-2aa6d0942492\">\n",
              "    <div class=\"colab-df-container\">\n",
              "      <div>\n",
              "<style scoped>\n",
              "    .dataframe tbody tr th:only-of-type {\n",
              "        vertical-align: middle;\n",
              "    }\n",
              "\n",
              "    .dataframe tbody tr th {\n",
              "        vertical-align: top;\n",
              "    }\n",
              "\n",
              "    .dataframe thead th {\n",
              "        text-align: right;\n",
              "    }\n",
              "</style>\n",
              "<table border=\"1\" class=\"dataframe\">\n",
              "  <thead>\n",
              "    <tr style=\"text-align: right;\">\n",
              "      <th></th>\n",
              "      <th>odometer_value</th>\n",
              "      <th>year_produced</th>\n",
              "      <th>engine_capacity</th>\n",
              "      <th>price_usd</th>\n",
              "      <th>number_of_photos</th>\n",
              "      <th>up_counter</th>\n",
              "      <th>duration_listed</th>\n",
              "    </tr>\n",
              "  </thead>\n",
              "  <tbody>\n",
              "    <tr>\n",
              "      <th>0</th>\n",
              "      <td>190000</td>\n",
              "      <td>2010</td>\n",
              "      <td>2.5</td>\n",
              "      <td>10900.00</td>\n",
              "      <td>9</td>\n",
              "      <td>13</td>\n",
              "      <td>16</td>\n",
              "    </tr>\n",
              "    <tr>\n",
              "      <th>1</th>\n",
              "      <td>290000</td>\n",
              "      <td>2002</td>\n",
              "      <td>3.0</td>\n",
              "      <td>5000.00</td>\n",
              "      <td>12</td>\n",
              "      <td>54</td>\n",
              "      <td>83</td>\n",
              "    </tr>\n",
              "    <tr>\n",
              "      <th>2</th>\n",
              "      <td>402000</td>\n",
              "      <td>2001</td>\n",
              "      <td>2.5</td>\n",
              "      <td>2800.00</td>\n",
              "      <td>4</td>\n",
              "      <td>72</td>\n",
              "      <td>151</td>\n",
              "    </tr>\n",
              "    <tr>\n",
              "      <th>3</th>\n",
              "      <td>10000</td>\n",
              "      <td>1999</td>\n",
              "      <td>3.0</td>\n",
              "      <td>9999.00</td>\n",
              "      <td>9</td>\n",
              "      <td>42</td>\n",
              "      <td>86</td>\n",
              "    </tr>\n",
              "    <tr>\n",
              "      <th>4</th>\n",
              "      <td>280000</td>\n",
              "      <td>2001</td>\n",
              "      <td>2.5</td>\n",
              "      <td>2134.11</td>\n",
              "      <td>14</td>\n",
              "      <td>7</td>\n",
              "      <td>7</td>\n",
              "    </tr>\n",
              "  </tbody>\n",
              "</table>\n",
              "</div>\n",
              "      <button class=\"colab-df-convert\" onclick=\"convertToInteractive('df-621a7f54-c004-440f-a79e-2aa6d0942492')\"\n",
              "              title=\"Convert this dataframe to an interactive table.\"\n",
              "              style=\"display:none;\">\n",
              "        \n",
              "  <svg xmlns=\"http://www.w3.org/2000/svg\" height=\"24px\"viewBox=\"0 0 24 24\"\n",
              "       width=\"24px\">\n",
              "    <path d=\"M0 0h24v24H0V0z\" fill=\"none\"/>\n",
              "    <path d=\"M18.56 5.44l.94 2.06.94-2.06 2.06-.94-2.06-.94-.94-2.06-.94 2.06-2.06.94zm-11 1L8.5 8.5l.94-2.06 2.06-.94-2.06-.94L8.5 2.5l-.94 2.06-2.06.94zm10 10l.94 2.06.94-2.06 2.06-.94-2.06-.94-.94-2.06-.94 2.06-2.06.94z\"/><path d=\"M17.41 7.96l-1.37-1.37c-.4-.4-.92-.59-1.43-.59-.52 0-1.04.2-1.43.59L10.3 9.45l-7.72 7.72c-.78.78-.78 2.05 0 2.83L4 21.41c.39.39.9.59 1.41.59.51 0 1.02-.2 1.41-.59l7.78-7.78 2.81-2.81c.8-.78.8-2.07 0-2.86zM5.41 20L4 18.59l7.72-7.72 1.47 1.35L5.41 20z\"/>\n",
              "  </svg>\n",
              "      </button>\n",
              "      \n",
              "  <style>\n",
              "    .colab-df-container {\n",
              "      display:flex;\n",
              "      flex-wrap:wrap;\n",
              "      gap: 12px;\n",
              "    }\n",
              "\n",
              "    .colab-df-convert {\n",
              "      background-color: #E8F0FE;\n",
              "      border: none;\n",
              "      border-radius: 50%;\n",
              "      cursor: pointer;\n",
              "      display: none;\n",
              "      fill: #1967D2;\n",
              "      height: 32px;\n",
              "      padding: 0 0 0 0;\n",
              "      width: 32px;\n",
              "    }\n",
              "\n",
              "    .colab-df-convert:hover {\n",
              "      background-color: #E2EBFA;\n",
              "      box-shadow: 0px 1px 2px rgba(60, 64, 67, 0.3), 0px 1px 3px 1px rgba(60, 64, 67, 0.15);\n",
              "      fill: #174EA6;\n",
              "    }\n",
              "\n",
              "    [theme=dark] .colab-df-convert {\n",
              "      background-color: #3B4455;\n",
              "      fill: #D2E3FC;\n",
              "    }\n",
              "\n",
              "    [theme=dark] .colab-df-convert:hover {\n",
              "      background-color: #434B5C;\n",
              "      box-shadow: 0px 1px 3px 1px rgba(0, 0, 0, 0.15);\n",
              "      filter: drop-shadow(0px 1px 2px rgba(0, 0, 0, 0.3));\n",
              "      fill: #FFFFFF;\n",
              "    }\n",
              "  </style>\n",
              "\n",
              "      <script>\n",
              "        const buttonEl =\n",
              "          document.querySelector('#df-621a7f54-c004-440f-a79e-2aa6d0942492 button.colab-df-convert');\n",
              "        buttonEl.style.display =\n",
              "          google.colab.kernel.accessAllowed ? 'block' : 'none';\n",
              "\n",
              "        async function convertToInteractive(key) {\n",
              "          const element = document.querySelector('#df-621a7f54-c004-440f-a79e-2aa6d0942492');\n",
              "          const dataTable =\n",
              "            await google.colab.kernel.invokeFunction('convertToInteractive',\n",
              "                                                     [key], {});\n",
              "          if (!dataTable) return;\n",
              "\n",
              "          const docLinkHtml = 'Like what you see? Visit the ' +\n",
              "            '<a target=\"_blank\" href=https://colab.research.google.com/notebooks/data_table.ipynb>data table notebook</a>'\n",
              "            + ' to learn more about interactive tables.';\n",
              "          element.innerHTML = '';\n",
              "          dataTable['output_type'] = 'display_data';\n",
              "          await google.colab.output.renderOutput(dataTable, element);\n",
              "          const docLink = document.createElement('div');\n",
              "          docLink.innerHTML = docLinkHtml;\n",
              "          element.appendChild(docLink);\n",
              "        }\n",
              "      </script>\n",
              "    </div>\n",
              "  </div>\n",
              "  "
            ]
          },
          "metadata": {},
          "execution_count": 6
        }
      ]
    },
    {
      "cell_type": "markdown",
      "source": [
        "Before we do PCA, we have to center and scale the data.\n",
        "\n",
        "After centering, the average value for each gene will be 0, and after scaling, the sd(standard deviation) for the values for each gene will be 1.\n",
        "\n"
      ],
      "metadata": {
        "id": "kfmSM3EG4Zn3"
      }
    },
    {
      "cell_type": "code",
      "source": [
        "from sklearn.preprocessing import StandardScaler\n",
        "\n",
        "#Notice that we pass the transpose of our dataframe, because the \n",
        "#scale function expects the features to be rows instead of columns\n",
        "\n",
        "\n",
        "scaled_data = StandardScaler().fit_transform(df.T)\n",
        "print(scaled_data)\n",
        "\n",
        "#scaled_data = preprocessing.scale(df.T) ·This would be another way \n"
      ],
      "metadata": {
        "id": "PGQRZF8F1Akf",
        "colab": {
          "base_uri": "https://localhost:8080/"
        },
        "outputId": "230fc06c-f77b-44c3-f62a-1bb7c66daa12"
      },
      "execution_count": null,
      "outputs": [
        {
          "output_type": "stream",
          "name": "stdout",
          "text": [
            "[[ 2.4456558   2.44913884  2.44942178 ...  2.44945408  2.39947342\n",
            "   2.44934663]\n",
            " [-0.40986371 -0.40017934 -0.39995535 ... -0.40501648 -0.2677772\n",
            "  -0.39845248]\n",
            " [-0.44035712 -0.41995652 -0.41419158 ... -0.4123609  -0.56400666\n",
            "  -0.41768889]\n",
            " ...\n",
            " [-0.44025838 -0.41986748 -0.4141809  ... -0.41236274 -0.56326571\n",
            "  -0.41767348]\n",
            " [-0.44019762 -0.41945195 -0.4136965  ... -0.41214202 -0.54118558\n",
            "  -0.41700903]\n",
            " [-0.44015206 -0.41916504 -0.41313375 ... -0.41101635 -0.49169051\n",
            "  -0.41162599]]\n"
          ]
        }
      ]
    },
    {
      "cell_type": "markdown",
      "source": [
        "Now we create a PCA object, sklearn uses objects that can be trained using one dataset and applied to another dataset."
      ],
      "metadata": {
        "id": "LrGhmLr06NeE"
      }
    },
    {
      "cell_type": "code",
      "source": [
        "pca = PCA()\n",
        "\n",
        "#Here there will be calculated the loading scores and the variation each \n",
        "#principal component accounts for\n",
        "pca.fit(scaled_data)\n",
        "\n",
        "#here we generate coordinates for a pca graph based on the loading scores\n",
        "#and the scaled data\n",
        "pca_data = pca.transform(scaled_data)"
      ],
      "metadata": {
        "id": "mhvxxs5X6M95"
      },
      "execution_count": null,
      "outputs": []
    },
    {
      "cell_type": "markdown",
      "source": [
        "Let´s draw a graph:"
      ],
      "metadata": {
        "id": "cloOpgvu7OcE"
      }
    },
    {
      "cell_type": "code",
      "source": [
        "#We´ll plor in order to see how many principal components should\n",
        "#go into the final plot.\n",
        "per_var = np.round(pca.explained_variance_ratio_*100, decimals =2)\n",
        "\n",
        "#Using a list comprehension\n",
        "labels = [\"PC\" + str(x) for x in range(1, len(per_var)+1)]"
      ],
      "metadata": {
        "id": "-wU1YMOt1Aox"
      },
      "execution_count": null,
      "outputs": []
    },
    {
      "cell_type": "markdown",
      "source": [
        "Now we´ll use matplotlib to create a barplot that shows the percentage of explained variance of each of the components"
      ],
      "metadata": {
        "id": "KYrROePE8l4O"
      }
    },
    {
      "cell_type": "code",
      "source": [
        "x = range(1,len(per_var)+1)\n",
        "plt.bar(x, height = per_var)\n",
        "plt.ylabel(\"Percentage of explained variance\")\n",
        "plt.xlabel(\"Principal component\")\n",
        "plt.show()\n"
      ],
      "metadata": {
        "colab": {
          "base_uri": "https://localhost:8080/",
          "height": 280
        },
        "id": "KOV0ZKJx8ln9",
        "outputId": "ca811d31-1f83-44dc-bd95-21b521fdf824"
      },
      "execution_count": null,
      "outputs": [
        {
          "output_type": "display_data",
          "data": {
            "text/plain": [
              "<Figure size 432x288 with 1 Axes>"
            ],
            "image/png": "[encoded data removed]"
          },
          "metadata": {
            "needs_background": "light"
          }
        }
      ]
    },
    {
      "cell_type": "markdown",
      "source": [
        "As we can see almost all the variation is along the first Principal Component(PC), using PC1 and PC2, it should do a very nice representation of the original data"
      ],
      "metadata": {
        "id": "QFjn-0GX-HTd"
      }
    },
    {
      "cell_type": "markdown",
      "source": [
        "Now we´ll get our dataframe with the pca applied, there we´ll keep watching the explained variance ratio of each component and each feature.\n",
        "\n",
        "In order to do this we´ll put the new coordinates, created by the standard scaler into a matrix where the rows have sample labels and the columns have PC labels."
      ],
      "metadata": {
        "id": "nsMMZ1SG-e-B"
      }
    },
    {
      "cell_type": "code",
      "source": [
        "pca_df = pd.DataFrame(pca_data, index = df.keys() , columns = labels )\n",
        "print(pca_df)"
      ],
      "metadata": {
        "id": "rNjRKLEz-HFz"
      },
      "execution_count": null,
      "outputs": []
    },
    {
      "cell_type": "markdown",
      "source": [
        "Let´s look at the loading scores for PC1 ti determine which cars had the largest influence on separating the two clusters along the x-axis"
      ],
      "metadata": {
        "id": "TTS1V6e33Eph"
      }
    },
    {
      "cell_type": "code",
      "source": [
        "#creation of a pandas series object with the loading scores of PC1\n",
        "loading_scores = pd.Series(pca.components_[0])\n",
        "#Sort the loading scores based on their magnitude or absolute value\n",
        "sorted_loading_scores = loading_scores.abs().sort_values(ascending = False)\n",
        "#Getting the top 10 cars that most influenced the data\n",
        "top_10 = sorted_loading_scores[0:10].index.values\n",
        "\n",
        "print(loading_scores[top_10])"
      ],
      "metadata": {
        "colab": {
          "base_uri": "https://localhost:8080/"
        },
        "id": "W1dXkcrfJ0t_",
        "outputId": "626b0b7b-4eba-4c63-a4a5-fc9f9698558d"
      },
      "execution_count": null,
      "outputs": [
        {
          "output_type": "stream",
          "name": "stdout",
          "text": [
            "16515    0.005182\n",
            "26891    0.005182\n",
            "6884     0.005182\n",
            "16273    0.005182\n",
            "18898    0.005182\n",
            "31195    0.005182\n",
            "30588    0.005182\n",
            "35831    0.005182\n",
            "12693    0.005182\n",
            "10151    0.005182\n",
            "dtype: float64\n"
          ]
        }
      ]
    },
    {
      "cell_type": "markdown",
      "source": [
        "As you can see values are so similar, then a lot of values played a role in separating the samples."
      ],
      "metadata": {
        "id": "ZGND6ImYLNRL"
      }
    },
    {
      "cell_type": "code",
      "source": [
        "#Show the total explained variance by the two principal components\n",
        "total_explained_data= per_var[0]+ per_var[1]\n",
        "print(total_explained_data)"
      ],
      "metadata": {
        "colab": {
          "base_uri": "https://localhost:8080/"
        },
        "id": "boQYjQ6c5M4I",
        "outputId": "5fb6da23-2ca7-4032-b1e1-df1dbc47f6a6"
      },
      "execution_count": null,
      "outputs": [
        {
          "output_type": "stream",
          "name": "stdout",
          "text": [
            "99.55\n"
          ]
        }
      ]
    },
    {
      "cell_type": "markdown",
      "source": [
        "ALMOST ALL (99.55%) THE DATA CAN BE EXPLAINED JUST WITH 2 PRINCIPAL COMPONENTS, instead of 7 features, **THE PCA HAS BEEN SUCCESSFUL**"
      ],
      "metadata": {
        "id": "6enlOyMzMViZ"
      }
    }
  ]
}