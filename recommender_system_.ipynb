{
 "cells": [
  {
   "cell_type": "code",
   "execution_count": 2,
   "id": "00ab1ae8",
   "metadata": {},
   "outputs": [
    {
     "data": {
      "text/html": [
       "<div>\n",
       "<style scoped>\n",
       "    .dataframe tbody tr th:only-of-type {\n",
       "        vertical-align: middle;\n",
       "    }\n",
       "\n",
       "    .dataframe tbody tr th {\n",
       "        vertical-align: top;\n",
       "    }\n",
       "\n",
       "    .dataframe thead th {\n",
       "        text-align: right;\n",
       "    }\n",
       "</style>\n",
       "<table border=\"1\" class=\"dataframe\">\n",
       "  <thead>\n",
       "    <tr style=\"text-align: right;\">\n",
       "      <th></th>\n",
       "      <th>odometer_value</th>\n",
       "      <th>year_produced</th>\n",
       "      <th>engine_capacity</th>\n",
       "      <th>price_usd</th>\n",
       "      <th>duration_listed</th>\n",
       "      <th>nomber_of_photos</th>\n",
       "      <th>up_counter</th>\n",
       "    </tr>\n",
       "  </thead>\n",
       "  <tbody>\n",
       "    <tr>\n",
       "      <th>9478</th>\n",
       "      <td>294000.0</td>\n",
       "      <td>2004.0</td>\n",
       "      <td>1.4</td>\n",
       "      <td>3100.0</td>\n",
       "      <td>5.0</td>\n",
       "      <td>23.0</td>\n",
       "      <td>5.0</td>\n",
       "    </tr>\n",
       "    <tr>\n",
       "      <th>9479</th>\n",
       "      <td>95000.0</td>\n",
       "      <td>2017.0</td>\n",
       "      <td>1.5</td>\n",
       "      <td>18700.0</td>\n",
       "      <td>9.0</td>\n",
       "      <td>12.0</td>\n",
       "      <td>8.0</td>\n",
       "    </tr>\n",
       "    <tr>\n",
       "      <th>9480</th>\n",
       "      <td>123456.0</td>\n",
       "      <td>1997.0</td>\n",
       "      <td>1.8</td>\n",
       "      <td>700.0</td>\n",
       "      <td>0.0</td>\n",
       "      <td>5.0</td>\n",
       "      <td>1.0</td>\n",
       "    </tr>\n",
       "    <tr>\n",
       "      <th>9481</th>\n",
       "      <td>250000.0</td>\n",
       "      <td>2008.0</td>\n",
       "      <td>1.6</td>\n",
       "      <td>4650.0</td>\n",
       "      <td>15.0</td>\n",
       "      <td>10.0</td>\n",
       "      <td>13.0</td>\n",
       "    </tr>\n",
       "    <tr>\n",
       "      <th>9482</th>\n",
       "      <td>65000.0</td>\n",
       "      <td>2015.0</td>\n",
       "      <td>1.6</td>\n",
       "      <td>14150.0</td>\n",
       "      <td>58.0</td>\n",
       "      <td>8.0</td>\n",
       "      <td>34.0</td>\n",
       "    </tr>\n",
       "    <tr>\n",
       "      <th>...</th>\n",
       "      <td>...</td>\n",
       "      <td>...</td>\n",
       "      <td>...</td>\n",
       "      <td>...</td>\n",
       "      <td>...</td>\n",
       "      <td>...</td>\n",
       "      <td>...</td>\n",
       "    </tr>\n",
       "    <tr>\n",
       "      <th>12035</th>\n",
       "      <td>300000.0</td>\n",
       "      <td>1996.0</td>\n",
       "      <td>2.0</td>\n",
       "      <td>1350.0</td>\n",
       "      <td>200.0</td>\n",
       "      <td>7.0</td>\n",
       "      <td>22.0</td>\n",
       "    </tr>\n",
       "    <tr>\n",
       "      <th>12036</th>\n",
       "      <td>350000.0</td>\n",
       "      <td>2000.0</td>\n",
       "      <td>1.8</td>\n",
       "      <td>2250.0</td>\n",
       "      <td>85.0</td>\n",
       "      <td>6.0</td>\n",
       "      <td>1.0</td>\n",
       "    </tr>\n",
       "    <tr>\n",
       "      <th>12037</th>\n",
       "      <td>324000.0</td>\n",
       "      <td>1992.0</td>\n",
       "      <td>1.6</td>\n",
       "      <td>210.0</td>\n",
       "      <td>85.0</td>\n",
       "      <td>4.0</td>\n",
       "      <td>1.0</td>\n",
       "    </tr>\n",
       "    <tr>\n",
       "      <th>12038</th>\n",
       "      <td>460000.0</td>\n",
       "      <td>1997.0</td>\n",
       "      <td>1.4</td>\n",
       "      <td>500.0</td>\n",
       "      <td>96.0</td>\n",
       "      <td>7.0</td>\n",
       "      <td>1.0</td>\n",
       "    </tr>\n",
       "    <tr>\n",
       "      <th>12039</th>\n",
       "      <td>300000.0</td>\n",
       "      <td>1998.0</td>\n",
       "      <td>1.8</td>\n",
       "      <td>750.0</td>\n",
       "      <td>115.0</td>\n",
       "      <td>7.0</td>\n",
       "      <td>2.0</td>\n",
       "    </tr>\n",
       "  </tbody>\n",
       "</table>\n",
       "<p>2562 rows × 7 columns</p>\n",
       "</div>"
      ],
      "text/plain": [
       "       odometer_value  year_produced  engine_capacity  price_usd  \\\n",
       "9478         294000.0         2004.0              1.4     3100.0   \n",
       "9479          95000.0         2017.0              1.5    18700.0   \n",
       "9480         123456.0         1997.0              1.8      700.0   \n",
       "9481         250000.0         2008.0              1.6     4650.0   \n",
       "9482          65000.0         2015.0              1.6    14150.0   \n",
       "...               ...            ...              ...        ...   \n",
       "12035        300000.0         1996.0              2.0     1350.0   \n",
       "12036        350000.0         2000.0              1.8     2250.0   \n",
       "12037        324000.0         1992.0              1.6      210.0   \n",
       "12038        460000.0         1997.0              1.4      500.0   \n",
       "12039        300000.0         1998.0              1.8      750.0   \n",
       "\n",
       "       duration_listed  nomber_of_photos  up_counter  \n",
       "9478               5.0              23.0         5.0  \n",
       "9479               9.0              12.0         8.0  \n",
       "9480               0.0               5.0         1.0  \n",
       "9481              15.0              10.0        13.0  \n",
       "9482              58.0               8.0        34.0  \n",
       "...                ...               ...         ...  \n",
       "12035            200.0               7.0        22.0  \n",
       "12036             85.0               6.0         1.0  \n",
       "12037             85.0               4.0         1.0  \n",
       "12038             96.0               7.0         1.0  \n",
       "12039            115.0               7.0         2.0  \n",
       "\n",
       "[2562 rows x 7 columns]"
      ]
     },
     "execution_count": 2,
     "metadata": {},
     "output_type": "execute_result"
    }
   ],
   "source": [
    "#import the usual libraries\n",
    "import numpy as np\n",
    "import pandas as pd\n",
    "import matplotlib.pyplot as plt\n",
    "\n",
    "\n",
    "df = pd.read_csv(\"coches_dataset2.csv.csv\")\n",
    "\n",
    "df = df.drop([\"feature_0\",\"feature_1\", \"feature_2\", \"feature_3\", \"feature_4\",\n",
    "              \"feature_5\", \"feature_5\", \"feature_6\", \"feature_7\", \"feature_8\", \n",
    "              \"feature_8\", \"feature_9\", \"location_region\"], axis = 1)\n",
    "\n",
    "df['duration_listed'].fillna((df['duration_listed'].mean()), inplace=True)\n",
    "df['engine_capacity'].fillna((df['engine_capacity'].mean()), inplace=True)\n",
    "\n",
    "#create a new dataframe just with audi cars and the quantitative variables\n",
    "df_rs = pd.DataFrame()\n",
    "odometer = df.iloc[9478:12040, 4].astype(str).astype(float)\n",
    "year = df.iloc[9478:12040,5].astype(str).astype(float)\n",
    "eng_cap = df.iloc[9478:12040, 9].astype(str).astype(float)\n",
    "price = df.iloc[9478:12040, 14].astype(str).astype(float)\n",
    "duration = df.iloc[9478:12040, 18].astype(str).astype(float)\n",
    "photos = df.iloc[9478:12040, 16].astype(str).astype(float)\n",
    "counter = df.iloc[9478:12040, 17].astype(str).astype(float)\n",
    "\n",
    "\n",
    "df_rs['odometer_value'] = odometer\n",
    "df_rs['year_produced'] = year\n",
    "df_rs['engine_capacity'] = eng_cap\n",
    "df_rs['price_usd'] = price\n",
    "df_rs['duration_listed'] = duration\n",
    "df_rs['nomber_of_photos'] = photos\n",
    "df_rs['up_counter'] = counter\n",
    "\n",
    "\n",
    "df_rs\n"
   ]
  },
  {
   "cell_type": "code",
   "execution_count": 3,
   "id": "6a736ac3",
   "metadata": {},
   "outputs": [
    {
     "data": {
      "text/plain": [
       "Text(0, 0.5, 'price')"
      ]
     },
     "execution_count": 3,
     "metadata": {},
     "output_type": "execute_result"
    },
    {
     "data": {
      "image/png": "[encoded data removed]",
      "text/plain": [
       "<Figure size 432x288 with 1 Axes>"
      ]
     },
     "metadata": {
      "needs_background": "light"
     },
     "output_type": "display_data"
    }
   ],
   "source": [
    "#plot the correlation that exist between the year and the price\n",
    "plt.scatter(df_rs['year_produced'], df_rs['price_usd'])\n",
    "plt.title('year and price')\n",
    "plt.xlabel('year')\n",
    "plt.ylabel('price')\n"
   ]
  },
  {
   "cell_type": "code",
   "execution_count": 4,
   "id": "49f271d9",
   "metadata": {},
   "outputs": [
    {
     "data": {
      "text/plain": [
       "Text(0, 0.5, 'price')"
      ]
     },
     "execution_count": 4,
     "metadata": {},
     "output_type": "execute_result"
    },
    {
     "data": {
      "image/png": "[encoded data removed]",
      "text/plain": [
       "<Figure size 432x288 with 1 Axes>"
      ]
     },
     "metadata": {
      "needs_background": "light"
     },
     "output_type": "display_data"
    }
   ],
   "source": [
    "#now, plot the correlation between the mileage and the price\n",
    "plt.scatter(df_rs['odometer_value'], df_rs['price_usd'])\n",
    "plt.title('odometer and price')\n",
    "plt.xlabel('odometer')\n",
    "plt.ylabel('price')\n"
   ]
  },
  {
   "cell_type": "code",
   "execution_count": 5,
   "id": "285153e9",
   "metadata": {},
   "outputs": [
    {
     "data": {
      "text/plain": [
       "Text(0, 0.5, 'price')"
      ]
     },
     "execution_count": 5,
     "metadata": {},
     "output_type": "execute_result"
    },
    {
     "data": {
      "image/png": "[encoded data removed]",
      "text/plain": [
       "<Figure size 432x288 with 1 Axes>"
      ]
     },
     "metadata": {
      "needs_background": "light"
     },
     "output_type": "display_data"
    }
   ],
   "source": [
    "#finally plot the correlation between the engine capacity and the price\n",
    "plt.scatter(df_rs['engine_capacity'], df_rs['price_usd'])\n",
    "plt.title('engine and price')\n",
    "plt.xlabel('engine')\n",
    "plt.ylabel('price')\n"
   ]
  },
  {
   "cell_type": "code",
   "execution_count": 6,
   "id": "2ad50858",
   "metadata": {},
   "outputs": [
    {
     "data": {
      "text/plain": [
       "odometer_value      58678.0\n",
       "year_produced        1996.0\n",
       "engine_capacity         1.8\n",
       "price_usd               NaN\n",
       "number_of_photos       23.0\n",
       "up_counter              1.0\n",
       "duration_listed       103.0\n",
       "Name: 12041, dtype: float64"
      ]
     },
     "execution_count": 6,
     "metadata": {},
     "output_type": "execute_result"
    }
   ],
   "source": [
    "#create another dataframe with the row of the database with the missing value on the price\n",
    "df_row = pd.DataFrame()\n",
    "\n",
    "\n",
    "df_row = df.iloc[12041, [4,5,9,14,16,17,18]].astype(str).astype(float)\n",
    "df_row[\"odometer_value\"] = df_row[\"odometer_value\"].astype(str).astype(float)\n",
    "df_row[\"year_produced\"] = df_row[\"year_produced\"].astype(str).astype(float)\n",
    "df_row[\"engine_capacity\"] = df_row[\"engine_capacity\"].astype(str).astype(float)\n",
    "df_row[\"price_usd\"] = df_row[\"price_usd\"].astype(str).astype(float)\n",
    "df_row[\"duration_listed\"] = df_row[\"duration_listed\"].astype(str).astype(float)\n",
    "\n",
    "df_row[\"price_usd\"] = np.nan #fill the price with NaN\n",
    "\n",
    "df_row"
   ]
  },
  {
   "cell_type": "code",
   "execution_count": 7,
   "id": "b375fe88",
   "metadata": {},
   "outputs": [
    {
     "data": {
      "text/plain": [
       "9478     0.999660\n",
       "9479     0.999926\n",
       "9480     0.999856\n",
       "9481     0.999689\n",
       "9482     0.999995\n",
       "           ...   \n",
       "12035    0.999650\n",
       "12036    0.999630\n",
       "12037    0.999641\n",
       "12038    0.999593\n",
       "12039    0.999653\n",
       "Length: 2562, dtype: float64"
      ]
     },
     "execution_count": 7,
     "metadata": {},
     "output_type": "execute_result"
    }
   ],
   "source": [
    "#compute the similarity with the pearson method of the df_rs dataframe\n",
    "similarity = df_rs.corrwith(df_row, axis=1, method='pearson')\n",
    "\n",
    "similarity\n"
   ]
  },
  {
   "cell_type": "code",
   "execution_count": 8,
   "id": "4fda39a2",
   "metadata": {},
   "outputs": [
    {
     "name": "stdout",
     "output_type": "stream",
     "text": [
      "\n",
      "user: 10407 Similarity:  0.999999820387827\n",
      "Have a price of:  9200.0\n",
      "recommended price:  1933.3800000000003\n",
      "\n",
      "user: 11750 Similarity:  0.9999996843820245\n",
      "Have a price of:  600.0\n",
      "recommended price:  1634.8086006698263\n",
      "\n",
      "user: 10795 Similarity:  0.9999995125032649\n",
      "Have a price of:  12500.0\n",
      "recommended price:  1845.4888266955481\n"
     ]
    }
   ],
   "source": [
    "commonItems = (~df_rs.isna()) & (~df_row.isna())\n",
    "nCommon = commonItems.sum(axis = 1)\n",
    "\n",
    "minItemsCommon = 3.9\n",
    "\n",
    "# Get the indices of users with whom we have more than minItemsCommon items in common with the query one\n",
    "idx = nCommon.index[nCommon > minItemsCommon]\n",
    "\n",
    "#keep only the users that have more than minItemsCommon with the query\n",
    "similarity = similarity.loc[idx]\n",
    "\n",
    "topN = 3\n",
    "\n",
    "similarity.sort_values(ascending = False, inplace = True)\n",
    "idx = similarity.index[:topN] # get the indices of the top N most similar users\n",
    "\n",
    "m = \"price_usd\" #The variable we are interested in predicting the price \n",
    "\n",
    "# initialise two variables in which we will hold the sums of the nominator and the demoninator of our formula\n",
    "sum_nom = sum_denom = 0 \n",
    "\n",
    "# Loop through the list of similar users\n",
    "for u in idx:\n",
    "    user_df_rs = df_rs.loc[u] # the row of price corresponding to car u\n",
    "    print(\"\\nuser:\", u, \"Similarity: \", similarity[u])\n",
    "\n",
    "    # Only use the cars that have the price\n",
    "    if ~(user_df_rs.isna()[m]): \n",
    "       \n",
    "        print(\"Have a price of: \", user_df_rs[m])        \n",
    "        \n",
    "        sum_nom = sum_nom + similarity[u]*(user_df_rs[m]) # Nominator\n",
    "        sum_denom = sum_denom + similarity[u] # Denominator\n",
    "\n",
    "    else:\n",
    "        print(\"Has not seen the movie. Ignore.\")\n",
    "        \n",
    "    \n",
    "    df_row[m] = df_row.mean() + sum_nom / sum_denom\n",
    "    \n",
    "    print(\"recommended price: \", df_row['price_usd']/10)"
   ]
  },
  {
   "cell_type": "code",
   "execution_count": null,
   "id": "7812e364",
   "metadata": {},
   "outputs": [],
   "source": []
  }
 ],
 "metadata": {
  "kernelspec": {
   "display_name": "Python 3",
   "language": "python",
   "name": "python3"
  },
  "language_info": {
   "codemirror_mode": {
    "name": "ipython",
    "version": 3
   },
   "file_extension": ".py",
   "mimetype": "text/x-python",
   "name": "python",
   "nbconvert_exporter": "python",
   "pygments_lexer": "ipython3",
   "version": "3.8.8"
  }
 },
 "nbformat": 4,
 "nbformat_minor": 5
}
