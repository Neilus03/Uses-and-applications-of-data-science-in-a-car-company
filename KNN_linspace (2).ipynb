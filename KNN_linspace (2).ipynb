{
  "nbformat": 4,
  "nbformat_minor": 0,
  "metadata": {
    "colab": {
      "name": "KNN_linspace.ipynb",
      "provenance": [],
      "collapsed_sections": []
    },
    "kernelspec": {
      "name": "python3",
      "display_name": "Python 3"
    },
    "language_info": {
      "name": "python"
    }
  },
  "cells": [
    {
      "cell_type": "code",
      "execution_count": 163,
      "metadata": {
        "id": "zh-fE5lV6Zhh"
      },
      "outputs": [],
      "source": [
        "#Import the needed libraries.\n",
        "\n",
        "import numpy as np\n",
        "import pandas as pd\n",
        "import matplotlib.pyplot as plt\n",
        "import sklearn\n",
        "from google.colab import files\n",
        "from sklearn.model_selection import train_test_split\n",
        "import itertools\n",
        "from sklearn.preprocessing import StandardScaler"
      ]
    },
    {
      "cell_type": "code",
      "source": [
        "df = pd.read_csv(\"coches_dataset2.csv.csv\")\n",
        "\n",
        "#the dataset came with some undefined boolean variables, so let´s erase them \n",
        "#because it will be impossible to use them, we´ll also erase the location region\n",
        "#due to its illegibility\n",
        "df = df.drop([\"feature_0\",\"feature_1\", \"feature_2\", \"feature_3\", \"feature_4\",\n",
        "              \"feature_5\", \"feature_5\", \"feature_6\", \"feature_7\", \"feature_8\", \n",
        "              \"feature_8\", \"feature_9\", \"location_region\"], axis = 1)\n",
        "\n",
        "\n",
        "df.tail(10)"
      ],
      "metadata": {
        "colab": {
          "base_uri": "https://localhost:8080/",
          "height": 444
        },
        "id": "KRjcxNvr6i5f",
        "outputId": "b88d7b12-9ad4-46fa-d631-441c51f3c7e0"
      },
      "execution_count": 180,
      "outputs": [
        {
          "output_type": "execute_result",
          "data": {
            "text/plain": [
              "      manufacturer_name     model_name transmission   color  odometer_value  \\\n",
              "38521          Chrysler           Neon   mechanical   green          260000   \n",
              "38522          Chrysler     PT Cruiser    automatic   other          207605   \n",
              "38523          Chrysler  Grand Voyager   mechanical   black          278000   \n",
              "38524          Chrysler            300    automatic  silver          240000   \n",
              "38525          Chrysler        Voyager   mechanical  violet          317000   \n",
              "38526          Chrysler            300    automatic  silver          290000   \n",
              "38527          Chrysler     PT Cruiser   mechanical    blue          321000   \n",
              "38528          Chrysler            300    automatic    blue          777957   \n",
              "38529          Chrysler     PT Cruiser   mechanical   black           20000   \n",
              "38530          Chrysler        Voyager    automatic  silver          297729   \n",
              "\n",
              "       year_produced engine_fuel  engine_has_gas engine_type  engine_capacity  \\\n",
              "38521           1995    gasoline           False    gasoline              2.0   \n",
              "38522           2004    gasoline           False    gasoline              2.4   \n",
              "38523           1999      diesel           False      diesel              2.5   \n",
              "38524           2001    gasoline           False    gasoline              3.5   \n",
              "38525           1999         gas            True    gasoline              2.0   \n",
              "38526           2000    gasoline           False    gasoline              3.5   \n",
              "38527           2004      diesel           False      diesel              2.2   \n",
              "38528           2000    gasoline           False    gasoline              3.5   \n",
              "38529           2001    gasoline           False    gasoline              2.0   \n",
              "38530           2000    gasoline           False    gasoline              2.4   \n",
              "\n",
              "       body_type  has_warranty  state drivetrain  price_usd  is_exchangeable  \\\n",
              "38521      sedan         False  owned      front     550.00             True   \n",
              "38522  hatchback         False  owned      front    4000.00            False   \n",
              "38523    minivan         False  owned      front    4220.81            False   \n",
              "38524      sedan         False  owned      front    3000.00             True   \n",
              "38525    minivan         False  owned      front    3300.00             True   \n",
              "38526      sedan         False  owned      front    2750.00             True   \n",
              "38527  hatchback         False  owned      front    4800.00             True   \n",
              "38528      sedan         False  owned      front    4300.00            False   \n",
              "38529    minivan         False  owned      front    4000.00             True   \n",
              "38530    minivan         False  owned      front    3200.00             True   \n",
              "\n",
              "       number_of_photos  up_counter  duration_listed  \n",
              "38521                 7          12              215  \n",
              "38522                 8          44              221  \n",
              "38523                 5          20              239  \n",
              "38524                 6          11              264  \n",
              "38525                 8          28              269  \n",
              "38526                 5          85              301  \n",
              "38527                 4          20              317  \n",
              "38528                 3          63              369  \n",
              "38529                 7         156              490  \n",
              "38530                 4          73              632  "
            ],
            "text/html": [
              "\n",
              "  <div id=\"df-f122df1f-aeb8-4f7d-9ba2-5b211ff4e0ae\">\n",
              "    <div class=\"colab-df-container\">\n",
              "      <div>\n",
              "<style scoped>\n",
              "    .dataframe tbody tr th:only-of-type {\n",
              "        vertical-align: middle;\n",
              "    }\n",
              "\n",
              "    .dataframe tbody tr th {\n",
              "        vertical-align: top;\n",
              "    }\n",
              "\n",
              "    .dataframe thead th {\n",
              "        text-align: right;\n",
              "    }\n",
              "</style>\n",
              "<table border=\"1\" class=\"dataframe\">\n",
              "  <thead>\n",
              "    <tr style=\"text-align: right;\">\n",
              "      <th></th>\n",
              "      <th>manufacturer_name</th>\n",
              "      <th>model_name</th>\n",
              "      <th>transmission</th>\n",
              "      <th>color</th>\n",
              "      <th>odometer_value</th>\n",
              "      <th>year_produced</th>\n",
              "      <th>engine_fuel</th>\n",
              "      <th>engine_has_gas</th>\n",
              "      <th>engine_type</th>\n",
              "      <th>engine_capacity</th>\n",
              "      <th>body_type</th>\n",
              "      <th>has_warranty</th>\n",
              "      <th>state</th>\n",
              "      <th>drivetrain</th>\n",
              "      <th>price_usd</th>\n",
              "      <th>is_exchangeable</th>\n",
              "      <th>number_of_photos</th>\n",
              "      <th>up_counter</th>\n",
              "      <th>duration_listed</th>\n",
              "    </tr>\n",
              "  </thead>\n",
              "  <tbody>\n",
              "    <tr>\n",
              "      <th>38521</th>\n",
              "      <td>Chrysler</td>\n",
              "      <td>Neon</td>\n",
              "      <td>mechanical</td>\n",
              "      <td>green</td>\n",
              "      <td>260000</td>\n",
              "      <td>1995</td>\n",
              "      <td>gasoline</td>\n",
              "      <td>False</td>\n",
              "      <td>gasoline</td>\n",
              "      <td>2.0</td>\n",
              "      <td>sedan</td>\n",
              "      <td>False</td>\n",
              "      <td>owned</td>\n",
              "      <td>front</td>\n",
              "      <td>550.00</td>\n",
              "      <td>True</td>\n",
              "      <td>7</td>\n",
              "      <td>12</td>\n",
              "      <td>215</td>\n",
              "    </tr>\n",
              "    <tr>\n",
              "      <th>38522</th>\n",
              "      <td>Chrysler</td>\n",
              "      <td>PT Cruiser</td>\n",
              "      <td>automatic</td>\n",
              "      <td>other</td>\n",
              "      <td>207605</td>\n",
              "      <td>2004</td>\n",
              "      <td>gasoline</td>\n",
              "      <td>False</td>\n",
              "      <td>gasoline</td>\n",
              "      <td>2.4</td>\n",
              "      <td>hatchback</td>\n",
              "      <td>False</td>\n",
              "      <td>owned</td>\n",
              "      <td>front</td>\n",
              "      <td>4000.00</td>\n",
              "      <td>False</td>\n",
              "      <td>8</td>\n",
              "      <td>44</td>\n",
              "      <td>221</td>\n",
              "    </tr>\n",
              "    <tr>\n",
              "      <th>38523</th>\n",
              "      <td>Chrysler</td>\n",
              "      <td>Grand Voyager</td>\n",
              "      <td>mechanical</td>\n",
              "      <td>black</td>\n",
              "      <td>278000</td>\n",
              "      <td>1999</td>\n",
              "      <td>diesel</td>\n",
              "      <td>False</td>\n",
              "      <td>diesel</td>\n",
              "      <td>2.5</td>\n",
              "      <td>minivan</td>\n",
              "      <td>False</td>\n",
              "      <td>owned</td>\n",
              "      <td>front</td>\n",
              "      <td>4220.81</td>\n",
              "      <td>False</td>\n",
              "      <td>5</td>\n",
              "      <td>20</td>\n",
              "      <td>239</td>\n",
              "    </tr>\n",
              "    <tr>\n",
              "      <th>38524</th>\n",
              "      <td>Chrysler</td>\n",
              "      <td>300</td>\n",
              "      <td>automatic</td>\n",
              "      <td>silver</td>\n",
              "      <td>240000</td>\n",
              "      <td>2001</td>\n",
              "      <td>gasoline</td>\n",
              "      <td>False</td>\n",
              "      <td>gasoline</td>\n",
              "      <td>3.5</td>\n",
              "      <td>sedan</td>\n",
              "      <td>False</td>\n",
              "      <td>owned</td>\n",
              "      <td>front</td>\n",
              "      <td>3000.00</td>\n",
              "      <td>True</td>\n",
              "      <td>6</td>\n",
              "      <td>11</td>\n",
              "      <td>264</td>\n",
              "    </tr>\n",
              "    <tr>\n",
              "      <th>38525</th>\n",
              "      <td>Chrysler</td>\n",
              "      <td>Voyager</td>\n",
              "      <td>mechanical</td>\n",
              "      <td>violet</td>\n",
              "      <td>317000</td>\n",
              "      <td>1999</td>\n",
              "      <td>gas</td>\n",
              "      <td>True</td>\n",
              "      <td>gasoline</td>\n",
              "      <td>2.0</td>\n",
              "      <td>minivan</td>\n",
              "      <td>False</td>\n",
              "      <td>owned</td>\n",
              "      <td>front</td>\n",
              "      <td>3300.00</td>\n",
              "      <td>True</td>\n",
              "      <td>8</td>\n",
              "      <td>28</td>\n",
              "      <td>269</td>\n",
              "    </tr>\n",
              "    <tr>\n",
              "      <th>38526</th>\n",
              "      <td>Chrysler</td>\n",
              "      <td>300</td>\n",
              "      <td>automatic</td>\n",
              "      <td>silver</td>\n",
              "      <td>290000</td>\n",
              "      <td>2000</td>\n",
              "      <td>gasoline</td>\n",
              "      <td>False</td>\n",
              "      <td>gasoline</td>\n",
              "      <td>3.5</td>\n",
              "      <td>sedan</td>\n",
              "      <td>False</td>\n",
              "      <td>owned</td>\n",
              "      <td>front</td>\n",
              "      <td>2750.00</td>\n",
              "      <td>True</td>\n",
              "      <td>5</td>\n",
              "      <td>85</td>\n",
              "      <td>301</td>\n",
              "    </tr>\n",
              "    <tr>\n",
              "      <th>38527</th>\n",
              "      <td>Chrysler</td>\n",
              "      <td>PT Cruiser</td>\n",
              "      <td>mechanical</td>\n",
              "      <td>blue</td>\n",
              "      <td>321000</td>\n",
              "      <td>2004</td>\n",
              "      <td>diesel</td>\n",
              "      <td>False</td>\n",
              "      <td>diesel</td>\n",
              "      <td>2.2</td>\n",
              "      <td>hatchback</td>\n",
              "      <td>False</td>\n",
              "      <td>owned</td>\n",
              "      <td>front</td>\n",
              "      <td>4800.00</td>\n",
              "      <td>True</td>\n",
              "      <td>4</td>\n",
              "      <td>20</td>\n",
              "      <td>317</td>\n",
              "    </tr>\n",
              "    <tr>\n",
              "      <th>38528</th>\n",
              "      <td>Chrysler</td>\n",
              "      <td>300</td>\n",
              "      <td>automatic</td>\n",
              "      <td>blue</td>\n",
              "      <td>777957</td>\n",
              "      <td>2000</td>\n",
              "      <td>gasoline</td>\n",
              "      <td>False</td>\n",
              "      <td>gasoline</td>\n",
              "      <td>3.5</td>\n",
              "      <td>sedan</td>\n",
              "      <td>False</td>\n",
              "      <td>owned</td>\n",
              "      <td>front</td>\n",
              "      <td>4300.00</td>\n",
              "      <td>False</td>\n",
              "      <td>3</td>\n",
              "      <td>63</td>\n",
              "      <td>369</td>\n",
              "    </tr>\n",
              "    <tr>\n",
              "      <th>38529</th>\n",
              "      <td>Chrysler</td>\n",
              "      <td>PT Cruiser</td>\n",
              "      <td>mechanical</td>\n",
              "      <td>black</td>\n",
              "      <td>20000</td>\n",
              "      <td>2001</td>\n",
              "      <td>gasoline</td>\n",
              "      <td>False</td>\n",
              "      <td>gasoline</td>\n",
              "      <td>2.0</td>\n",
              "      <td>minivan</td>\n",
              "      <td>False</td>\n",
              "      <td>owned</td>\n",
              "      <td>front</td>\n",
              "      <td>4000.00</td>\n",
              "      <td>True</td>\n",
              "      <td>7</td>\n",
              "      <td>156</td>\n",
              "      <td>490</td>\n",
              "    </tr>\n",
              "    <tr>\n",
              "      <th>38530</th>\n",
              "      <td>Chrysler</td>\n",
              "      <td>Voyager</td>\n",
              "      <td>automatic</td>\n",
              "      <td>silver</td>\n",
              "      <td>297729</td>\n",
              "      <td>2000</td>\n",
              "      <td>gasoline</td>\n",
              "      <td>False</td>\n",
              "      <td>gasoline</td>\n",
              "      <td>2.4</td>\n",
              "      <td>minivan</td>\n",
              "      <td>False</td>\n",
              "      <td>owned</td>\n",
              "      <td>front</td>\n",
              "      <td>3200.00</td>\n",
              "      <td>True</td>\n",
              "      <td>4</td>\n",
              "      <td>73</td>\n",
              "      <td>632</td>\n",
              "    </tr>\n",
              "  </tbody>\n",
              "</table>\n",
              "</div>\n",
              "      <button class=\"colab-df-convert\" onclick=\"convertToInteractive('df-f122df1f-aeb8-4f7d-9ba2-5b211ff4e0ae')\"\n",
              "              title=\"Convert this dataframe to an interactive table.\"\n",
              "              style=\"display:none;\">\n",
              "        \n",
              "  <svg xmlns=\"http://www.w3.org/2000/svg\" height=\"24px\"viewBox=\"0 0 24 24\"\n",
              "       width=\"24px\">\n",
              "    <path d=\"M0 0h24v24H0V0z\" fill=\"none\"/>\n",
              "    <path d=\"M18.56 5.44l.94 2.06.94-2.06 2.06-.94-2.06-.94-.94-2.06-.94 2.06-2.06.94zm-11 1L8.5 8.5l.94-2.06 2.06-.94-2.06-.94L8.5 2.5l-.94 2.06-2.06.94zm10 10l.94 2.06.94-2.06 2.06-.94-2.06-.94-.94-2.06-.94 2.06-2.06.94z\"/><path d=\"M17.41 7.96l-1.37-1.37c-.4-.4-.92-.59-1.43-.59-.52 0-1.04.2-1.43.59L10.3 9.45l-7.72 7.72c-.78.78-.78 2.05 0 2.83L4 21.41c.39.39.9.59 1.41.59.51 0 1.02-.2 1.41-.59l7.78-7.78 2.81-2.81c.8-.78.8-2.07 0-2.86zM5.41 20L4 18.59l7.72-7.72 1.47 1.35L5.41 20z\"/>\n",
              "  </svg>\n",
              "      </button>\n",
              "      \n",
              "  <style>\n",
              "    .colab-df-container {\n",
              "      display:flex;\n",
              "      flex-wrap:wrap;\n",
              "      gap: 12px;\n",
              "    }\n",
              "\n",
              "    .colab-df-convert {\n",
              "      background-color: #E8F0FE;\n",
              "      border: none;\n",
              "      border-radius: 50%;\n",
              "      cursor: pointer;\n",
              "      display: none;\n",
              "      fill: #1967D2;\n",
              "      height: 32px;\n",
              "      padding: 0 0 0 0;\n",
              "      width: 32px;\n",
              "    }\n",
              "\n",
              "    .colab-df-convert:hover {\n",
              "      background-color: #E2EBFA;\n",
              "      box-shadow: 0px 1px 2px rgba(60, 64, 67, 0.3), 0px 1px 3px 1px rgba(60, 64, 67, 0.15);\n",
              "      fill: #174EA6;\n",
              "    }\n",
              "\n",
              "    [theme=dark] .colab-df-convert {\n",
              "      background-color: #3B4455;\n",
              "      fill: #D2E3FC;\n",
              "    }\n",
              "\n",
              "    [theme=dark] .colab-df-convert:hover {\n",
              "      background-color: #434B5C;\n",
              "      box-shadow: 0px 1px 3px 1px rgba(0, 0, 0, 0.15);\n",
              "      filter: drop-shadow(0px 1px 2px rgba(0, 0, 0, 0.3));\n",
              "      fill: #FFFFFF;\n",
              "    }\n",
              "  </style>\n",
              "\n",
              "      <script>\n",
              "        const buttonEl =\n",
              "          document.querySelector('#df-f122df1f-aeb8-4f7d-9ba2-5b211ff4e0ae button.colab-df-convert');\n",
              "        buttonEl.style.display =\n",
              "          google.colab.kernel.accessAllowed ? 'block' : 'none';\n",
              "\n",
              "        async function convertToInteractive(key) {\n",
              "          const element = document.querySelector('#df-f122df1f-aeb8-4f7d-9ba2-5b211ff4e0ae');\n",
              "          const dataTable =\n",
              "            await google.colab.kernel.invokeFunction('convertToInteractive',\n",
              "                                                     [key], {});\n",
              "          if (!dataTable) return;\n",
              "\n",
              "          const docLinkHtml = 'Like what you see? Visit the ' +\n",
              "            '<a target=\"_blank\" href=https://colab.research.google.com/notebooks/data_table.ipynb>data table notebook</a>'\n",
              "            + ' to learn more about interactive tables.';\n",
              "          element.innerHTML = '';\n",
              "          dataTable['output_type'] = 'display_data';\n",
              "          await google.colab.output.renderOutput(dataTable, element);\n",
              "          const docLink = document.createElement('div');\n",
              "          docLink.innerHTML = docLinkHtml;\n",
              "          element.appendChild(docLink);\n",
              "        }\n",
              "      </script>\n",
              "    </div>\n",
              "  </div>\n",
              "  "
            ]
          },
          "metadata": {},
          "execution_count": 180
        }
      ]
    },
    {
      "cell_type": "code",
      "source": [
        "#Get some more info about the variables in the dataframe:\n",
        "df.info()\n",
        "\n",
        "#Know if there is any null value:\n",
        "df.isnull().values.any() \n",
        "\n",
        "#Now how many null values are there in the variable where there are null values:\n",
        "print(df['duration_listed'].isnull().sum())\n",
        "print(df['engine_capacity'].isnull().sum())\n",
        "#There is 1 nan in \"duration_listed\" variable and 10 in engine_capacity.\n",
        "\n",
        "#Fill nan´s with the mean average of the respective variable\n",
        "df['duration_listed'].fillna((df['duration_listed'].mean()), inplace=True)\n",
        "df['engine_capacity'].fillna((df['engine_capacity'].mean()), inplace=True)\n",
        "#Recheck if there is any null value\n",
        "print(df.isnull().values.any())\n",
        "\n"
      ],
      "metadata": {
        "colab": {
          "base_uri": "https://localhost:8080/"
        },
        "id": "YSRHd3DN67bV",
        "outputId": "2593a9e2-ec98-44de-ae73-54a25aa0006a"
      },
      "execution_count": 181,
      "outputs": [
        {
          "output_type": "stream",
          "name": "stdout",
          "text": [
            "<class 'pandas.core.frame.DataFrame'>\n",
            "RangeIndex: 38531 entries, 0 to 38530\n",
            "Data columns (total 19 columns):\n",
            " #   Column             Non-Null Count  Dtype  \n",
            "---  ------             --------------  -----  \n",
            " 0   manufacturer_name  38531 non-null  object \n",
            " 1   model_name         38531 non-null  object \n",
            " 2   transmission       38531 non-null  object \n",
            " 3   color              38531 non-null  object \n",
            " 4   odometer_value     38531 non-null  int64  \n",
            " 5   year_produced      38531 non-null  int64  \n",
            " 6   engine_fuel        38531 non-null  object \n",
            " 7   engine_has_gas     38531 non-null  bool   \n",
            " 8   engine_type        38531 non-null  object \n",
            " 9   engine_capacity    38521 non-null  float64\n",
            " 10  body_type          38531 non-null  object \n",
            " 11  has_warranty       38531 non-null  bool   \n",
            " 12  state              38531 non-null  object \n",
            " 13  drivetrain         38531 non-null  object \n",
            " 14  price_usd          38531 non-null  float64\n",
            " 15  is_exchangeable    38531 non-null  bool   \n",
            " 16  number_of_photos   38531 non-null  int64  \n",
            " 17  up_counter         38531 non-null  int64  \n",
            " 18  duration_listed    38531 non-null  int64  \n",
            "dtypes: bool(3), float64(2), int64(5), object(9)\n",
            "memory usage: 4.8+ MB\n",
            "0\n",
            "10\n",
            "False\n"
          ]
        }
      ]
    },
    {
      "cell_type": "code",
      "source": [
        "#Now let´s turn our categorical variables into numerical \n",
        "#in order to make our knn-s as profitable as possible\n",
        "\n",
        "# Importing LabelEncoder from Sklearn\n",
        "# library from preprocessing Module.\n",
        "from sklearn.preprocessing import LabelEncoder\n",
        " \n",
        "# Creating a instance of label Encoder.\n",
        "le = LabelEncoder()\n",
        " \n",
        "# Using .fit_transform function to fit label\n",
        "# encoder and return encoded label\n",
        "df[\"color\"] = le.fit_transform(df[\"color\"])\n",
        "df[\"body_type\"] = le.fit_transform(df[\"body_type\"])\n",
        "df[\"transmission\"] = le.fit_transform(df[\"transmission\"])\n",
        "df[\"engine_fuel\"] = le.fit_transform(df[\"engine_fuel\"])\n",
        "df[\"is_exchangeable\"] = le.fit_transform(df[\"is_exchangeable\"])\n",
        "df[\"engine_fuel\"] = le.fit_transform(df[\"engine_fuel\"])\n",
        "df[\"drivetrain\"] = le.fit_transform(df[\"drivetrain\"])\n",
        "df[\"state\"] = le.fit_transform(df[\"state\"])\n",
        "df[\"has_warranty\"] = le.fit_transform(df[\"has_warranty\"])\n",
        "df[\"engine_type\"] = le.fit_transform(df[\"engine_type\"])\n",
        "df[\"engine_has_gas\"] = le.fit_transform(df[\"engine_has_gas\"])\n",
        "\n",
        "print(df.head(1))\n",
        "df.info()"
      ],
      "metadata": {
        "colab": {
          "base_uri": "https://localhost:8080/"
        },
        "id": "u9q2T7mZ6i71",
        "outputId": "eca4871d-1271-4823-f22e-1fb1dd2d4c3f"
      },
      "execution_count": 166,
      "outputs": [
        {
          "output_type": "stream",
          "name": "stdout",
          "text": [
            "  manufacturer_name model_name  transmission  color  odometer_value  \\\n",
            "0            Subaru    Outback             0      8          190000   \n",
            "\n",
            "   year_produced  engine_fuel  engine_has_gas  engine_type  engine_capacity  \\\n",
            "0           2010            3               0            2              2.5   \n",
            "\n",
            "   body_type  has_warranty  state  drivetrain  price_usd  is_exchangeable  \\\n",
            "0         10             0      2           0    10900.0                0   \n",
            "\n",
            "   number_of_photos  up_counter  duration_listed  \n",
            "0                 9          13               16  \n",
            "<class 'pandas.core.frame.DataFrame'>\n",
            "RangeIndex: 38531 entries, 0 to 38530\n",
            "Data columns (total 19 columns):\n",
            " #   Column             Non-Null Count  Dtype  \n",
            "---  ------             --------------  -----  \n",
            " 0   manufacturer_name  38531 non-null  object \n",
            " 1   model_name         38531 non-null  object \n",
            " 2   transmission       38531 non-null  int64  \n",
            " 3   color              38531 non-null  int64  \n",
            " 4   odometer_value     38531 non-null  int64  \n",
            " 5   year_produced      38531 non-null  int64  \n",
            " 6   engine_fuel        38531 non-null  int64  \n",
            " 7   engine_has_gas     38531 non-null  int64  \n",
            " 8   engine_type        38531 non-null  int64  \n",
            " 9   engine_capacity    38531 non-null  float64\n",
            " 10  body_type          38531 non-null  int64  \n",
            " 11  has_warranty       38531 non-null  int64  \n",
            " 12  state              38531 non-null  int64  \n",
            " 13  drivetrain         38531 non-null  int64  \n",
            " 14  price_usd          38531 non-null  float64\n",
            " 15  is_exchangeable    38531 non-null  int64  \n",
            " 16  number_of_photos   38531 non-null  int64  \n",
            " 17  up_counter         38531 non-null  int64  \n",
            " 18  duration_listed    38531 non-null  int64  \n",
            "dtypes: float64(2), int64(15), object(2)\n",
            "memory usage: 5.6+ MB\n"
          ]
        }
      ]
    },
    {
      "cell_type": "code",
      "source": [
        "#We will divide the cars and its odometer values bins, so that we can see what\n",
        "#is the amount of cars in each range\n",
        "bins = np.linspace(min(df[\"odometer_value\"]), max(df[\"odometer_value\"]),4)\n",
        "print(bins)\n",
        "\n",
        "\n",
        "#percentile1=df[\"odometer_value\"].scoreatpercentile(array, 33.3)\n",
        "#perccentile2 = df[\"odometer_value\"].scoreatpercentile(array, 66.6)\n",
        "\n",
        "group_names = [\"Low use\", \"Medium use\", \"High use\"]\n",
        "df[\"odometer_value_binned\"]= pd.cut(df[\"odometer_value\"], bins, labels = group_names, include_lowest = True)\n",
        "plt.hist(df[\"odometer_value_binned\"], color = \"blue\")\n",
        "df.info()\n"
      ],
      "metadata": {
        "colab": {
          "base_uri": "https://localhost:8080/",
          "height": 751
        },
        "id": "2vMiMTvZ6jAM",
        "outputId": "0f5a3d74-be3c-47e2-cc5d-436ec4ee06c0"
      },
      "execution_count": 167,
      "outputs": [
        {
          "output_type": "stream",
          "name": "stdout",
          "text": [
            "[      0.          333333.33333333  666666.66666667 1000000.        ]\n",
            "<class 'pandas.core.frame.DataFrame'>\n",
            "RangeIndex: 38531 entries, 0 to 38530\n",
            "Data columns (total 20 columns):\n",
            " #   Column                 Non-Null Count  Dtype   \n",
            "---  ------                 --------------  -----   \n",
            " 0   manufacturer_name      38531 non-null  object  \n",
            " 1   model_name             38531 non-null  object  \n",
            " 2   transmission           38531 non-null  int64   \n",
            " 3   color                  38531 non-null  int64   \n",
            " 4   odometer_value         38531 non-null  int64   \n",
            " 5   year_produced          38531 non-null  int64   \n",
            " 6   engine_fuel            38531 non-null  int64   \n",
            " 7   engine_has_gas         38531 non-null  int64   \n",
            " 8   engine_type            38531 non-null  int64   \n",
            " 9   engine_capacity        38531 non-null  float64 \n",
            " 10  body_type              38531 non-null  int64   \n",
            " 11  has_warranty           38531 non-null  int64   \n",
            " 12  state                  38531 non-null  int64   \n",
            " 13  drivetrain             38531 non-null  int64   \n",
            " 14  price_usd              38531 non-null  float64 \n",
            " 15  is_exchangeable        38531 non-null  int64   \n",
            " 16  number_of_photos       38531 non-null  int64   \n",
            " 17  up_counter             38531 non-null  int64   \n",
            " 18  duration_listed        38531 non-null  int64   \n",
            " 19  odometer_value_binned  38531 non-null  category\n",
            "dtypes: category(1), float64(2), int64(15), object(2)\n",
            "memory usage: 5.6+ MB\n"
          ]
        },
        {
          "output_type": "display_data",
          "data": {
            "text/plain": [
              "<Figure size 432x288 with 1 Axes>"
            ],
            "image/png": "[encoded data removed]"
          },
          "metadata": {
            "needs_background": "light"
          }
        }
      ]
    },
    {
      "cell_type": "code",
      "source": [
        "from sklearn import neighbors, datasets\n",
        "from sklearn import preprocessing \n",
        "#in order to select some random cars:\n",
        "import random\n",
        "a=[]\n",
        "n= 500\n",
        "for i in range(n):\n",
        "    a.append(random.randint(1,len(df[\"odometer_value_binned\"])))\n",
        "print('Randomised list is: ',a)\n",
        "\n",
        "#We´ll turn the odometer value binned variable into numerical also (1,2,3);:\n",
        "df[\"odometer_value_binned\"] = le.fit_transform(df[\"odometer_value_binned\"])\n",
        "\n",
        "#Let´s select the variables that our classifier will take into account (all\n",
        "# except brand, model and obviously the odometer value):\n",
        "X =df.iloc[a,[2,3,5,6,7,8,9,10,11,12,13,14,15,16,17,18]].values\n",
        "#Let´s get the values of our odometer_value_binned variable\n",
        "y = df.iloc[a,19].values"
      ],
      "metadata": {
        "colab": {
          "base_uri": "https://localhost:8080/"
        },
        "id": "kPbfmpp_6jEy",
        "outputId": "41fc54ef-967b-40a7-dcb3-ab6f110e4dcf"
      },
      "execution_count": 168,
      "outputs": [
        {
          "output_type": "stream",
          "name": "stdout",
          "text": [
            "Randomised list is:  [19470, 10971, 13166, 12618, 37830, 7799, 11114, 18532, 33072, 28474, 17913, 12237, 13467, 34066, 15292, 18618, 19361, 25189, 26260, 1438, 37514, 25726, 22059, 22898, 24280, 13057, 6017, 28429, 20967, 22841, 7736, 6406, 9146, 11758, 18432, 2556, 12719, 2694, 26097, 33129, 35479, 20090, 24447, 27039, 1882, 5572, 32014, 22547, 30708, 27754, 22608, 32607, 32418, 7229, 29871, 27109, 24183, 27196, 14461, 3669, 28773, 798, 38453, 26949, 3446, 4930, 5884, 13463, 35907, 17119, 28341, 383, 2196, 1151, 18651, 33028, 5026, 28451, 32138, 19545, 12597, 8055, 33004, 732, 23207, 38418, 20351, 37522, 816, 23959, 11957, 16439, 27477, 26501, 21387, 32006, 19002, 30840, 2577, 17169, 7647, 38283, 11275, 18675, 990, 5712, 1488, 37678, 22988, 2122, 37235, 27575, 36784, 5739, 5914, 20683, 19649, 1120, 23994, 18590, 27515, 20323, 31657, 7688, 16229, 28334, 1406, 9777, 25355, 3045, 4553, 12164, 33470, 27242, 29796, 11765, 10266, 8403, 6278, 8138, 1107, 8471, 33505, 29659, 16738, 26413, 21318, 38468, 21252, 7850, 14715, 34837, 15503, 1135, 26299, 15371, 9649, 24441, 16012, 31110, 7688, 8565, 12478, 27044, 24312, 17171, 17186, 34890, 1481, 32995, 19597, 5307, 21528, 18167, 22006, 17542, 17449, 10937, 33085, 3970, 4422, 4117, 22695, 14637, 15859, 35812, 36592, 24803, 24023, 31900, 32796, 26906, 33921, 4132, 26188, 37424, 21785, 29954, 12977, 11999, 17267, 18241, 21498, 8279, 26748, 11371, 2371, 23028, 36912, 15135, 7241, 3255, 21720, 17629, 6026, 27488, 24126, 26514, 10486, 3658, 26870, 27404, 3291, 14324, 3954, 35225, 1986, 18918, 19009, 20535, 26263, 5978, 36088, 2841, 21399, 33072, 36962, 21266, 2542, 3484, 31723, 27765, 17732, 35853, 17612, 7655, 14013, 5205, 26873, 28802, 1177, 25408, 20409, 19187, 14136, 6217, 34548, 14549, 18701, 1409, 38330, 33852, 25513, 33984, 15931, 24855, 20409, 37207, 28041, 8692, 18710, 32454, 12688, 14532, 19335, 18991, 14238, 9270, 36055, 35893, 12579, 9898, 5938, 11549, 35461, 11396, 3895, 14430, 27223, 10797, 36187, 20652, 21454, 13248, 25644, 7110, 25800, 34122, 30256, 15195, 30840, 11629, 36391, 8784, 1584, 16187, 3079, 27881, 12793, 24159, 20960, 3446, 13471, 33441, 432, 9935, 19721, 19445, 24830, 15897, 4764, 32980, 24588, 10724, 26839, 22414, 2936, 215, 35915, 17478, 21471, 6189, 36540, 4037, 182, 29100, 36364, 12625, 32601, 2623, 7130, 17113, 37094, 19361, 5254, 7453, 13097, 8748, 28932, 26771, 37182, 11211, 16998, 36582, 3398, 19708, 12790, 4084, 8843, 26233, 31541, 17571, 14560, 34538, 2183, 20225, 23381, 24405, 16443, 16357, 21264, 30626, 35655, 27783, 36658, 38276, 11584, 6860, 33926, 12743, 2530, 30710, 18497, 37339, 17176, 7252, 36894, 35644, 12269, 11798, 22814, 30250, 24325, 27627, 10474, 12481, 30923, 3554, 4179, 27467, 17763, 19430, 1610, 36302, 25951, 26262, 28694, 21719, 14882, 7488, 33081, 5577, 23345, 10991, 28790, 35576, 35634, 10246, 3341, 26267, 23512, 26666, 31740, 17546, 6803, 19677, 25806, 17459, 29930, 9169, 8169, 15810, 35052, 5466, 38, 28093, 23163, 25336, 38123, 802, 995, 1517, 30833, 35033, 34123, 15566, 24629, 25496, 12128, 24839, 11719, 2694, 15652, 12552, 20962, 21337, 18740, 7511, 30551, 23020, 33560, 36456, 12983, 17342, 4101, 15852, 15953, 36665, 8732, 8843, 3968, 23505, 24735, 20607, 19706, 14171, 7611, 29787, 1340, 20020, 22004, 26158, 25648, 36793, 23301, 13385, 2812, 1130, 36764, 15502, 5970, 28758, 1967, 1200, 36319, 1259, 11866, 9865, 6769, 8348]\n"
          ]
        }
      ]
    },
    {
      "cell_type": "markdown",
      "source": [
        "split the training and testing data."
      ],
      "metadata": {
        "id": "qXPGJYlwZAry"
      }
    },
    {
      "cell_type": "code",
      "source": [
        "X_train, X_test, y_train, y_test = train_test_split(X, y, test_size=0.20)\n",
        "\n",
        "print(X_train.shape)\n",
        "\n",
        "print(X_test.shape)\n"
      ],
      "metadata": {
        "colab": {
          "base_uri": "https://localhost:8080/"
        },
        "id": "rI_huMZs6jIw",
        "outputId": "e1ec3537-5344-43b0-e4a5-dac7e6703322"
      },
      "execution_count": 169,
      "outputs": [
        {
          "output_type": "stream",
          "name": "stdout",
          "text": [
            "(400, 16)\n",
            "(100, 16)\n"
          ]
        }
      ]
    },
    {
      "cell_type": "markdown",
      "source": [
        ""
      ],
      "metadata": {
        "id": "MggdgFKdlPck"
      }
    },
    {
      "cell_type": "markdown",
      "source": [
        "Standarize the data and create the training and testing sets"
      ],
      "metadata": {
        "id": "JUXTeDR8lG7Y"
      }
    },
    {
      "cell_type": "code",
      "source": [
        "from sklearn.preprocessing import StandardScaler\n",
        "scaler = StandardScaler()\n",
        "X_train = scaler.fit_transform(X_train)\n",
        "X_test = scaler.transform(X_test)"
      ],
      "metadata": {
        "id": "eQuO9l496jLY"
      },
      "execution_count": 170,
      "outputs": []
    },
    {
      "cell_type": "markdown",
      "source": [
        "Let´s choose the best number of neighbors for our knn, based on the error that each amount produces, the least, the better.\n",
        "\n"
      ],
      "metadata": {
        "id": "wD_poKCglOJ9"
      }
    },
    {
      "cell_type": "code",
      "source": [
        "from sklearn.neighbors import KNeighborsClassifier\n",
        "error_rate = []\n",
        "for i in range(1,100):\n",
        " knn = KNeighborsClassifier(n_neighbors=i)\n",
        " knn.fit(X_train,y_train)\n",
        " pred_i = knn.predict(X_test)\n",
        " error_rate.append(np.mean(pred_i != y_test))\n",
        "\n",
        "plt.figure(figsize=(10,6))\n",
        "plt.plot(range(1,100),error_rate,color='blue', linestyle='dashed', \n",
        "         marker='o',markerfacecolor='red', markersize=10)\n",
        "plt.title('Error Rate vs. K Value')\n",
        "plt.xlabel('K')\n",
        "plt.ylabel('Error Rate')\n",
        "print(\"Minimum error:\",min(error_rate))\n",
        "k = error_rate.index(min(error_rate))+1\n",
        "print(\"K =\", k)\n",
        "#Here I will plot an error-k-neighbor plot that will help us a lot when it comes\n",
        "#to decide the number of neighbors that will use in our knn"
      ],
      "metadata": {
        "colab": {
          "base_uri": "https://localhost:8080/",
          "height": 439
        },
        "id": "qBOoqk77BO-f",
        "outputId": "b38e1d11-bbfb-422b-8026-174e65d6253c"
      },
      "execution_count": 171,
      "outputs": [
        {
          "output_type": "stream",
          "name": "stdout",
          "text": [
            "Minimum error: 0.13\n",
            "K = 17\n"
          ]
        },
        {
          "output_type": "display_data",
          "data": {
            "text/plain": [
              "<Figure size 720x432 with 1 Axes>"
            ],
            "image/png": "[encoded data removed]"
          },
          "metadata": {
            "needs_background": "light"
          }
        }
      ]
    },
    {
      "cell_type": "code",
      "source": [
        "#Let´s set the amount of neighbors that our previous algorithm calculated for us\n",
        "n_neighbors = k\n",
        "classifier = KNeighborsClassifier(n_neighbors , weights='distance', algorithm = 'kd_tree')\n",
        "classifier.fit(X_train, y_train)\n",
        "classifier.get_params()"
      ],
      "metadata": {
        "colab": {
          "base_uri": "https://localhost:8080/"
        },
        "id": "toHPIXXg6jSH",
        "outputId": "f570e253-1fdd-4b8a-c53f-b907032c4c61"
      },
      "execution_count": 172,
      "outputs": [
        {
          "output_type": "execute_result",
          "data": {
            "text/plain": [
              "{'algorithm': 'kd_tree',\n",
              " 'leaf_size': 30,\n",
              " 'metric': 'minkowski',\n",
              " 'metric_params': None,\n",
              " 'n_jobs': None,\n",
              " 'n_neighbors': 17,\n",
              " 'p': 2,\n",
              " 'weights': 'distance'}"
            ]
          },
          "metadata": {},
          "execution_count": 172
        }
      ]
    },
    {
      "cell_type": "markdown",
      "source": [
        "Print the prediction of the classifier over the test data"
      ],
      "metadata": {
        "id": "wchVled-mDA8"
      }
    },
    {
      "cell_type": "code",
      "source": [
        "y_pred = classifier.predict(X_test)\n",
        "print(y_pred)"
      ],
      "metadata": {
        "id": "Ol90bZbb6jY6",
        "colab": {
          "base_uri": "https://localhost:8080/"
        },
        "outputId": "90382dc1-1640-46a6-ede6-dddef254c892"
      },
      "execution_count": 182,
      "outputs": [
        {
          "output_type": "stream",
          "name": "stdout",
          "text": [
            "[1 1 1 1 1 1 1 1 1 1 1 1 1 1 1 1 1 1 1 1 1 1 1 1 1 1 1 1 1 1 1 1 1 1 1 2 1\n",
            " 1 1 2 2 1 2 1 1 1 2 1 1 1 1 1 2 1 1 1 2 1 1 1 1 1 1 1 1 1 1 1 1 1 1 1 1 1\n",
            " 1 1 1 1 2 1 2 2 1 1 2 1 1 1 1 1 1 1 1 2 1 1 1 1 1 1]\n"
          ]
        }
      ]
    },
    {
      "cell_type": "markdown",
      "source": [
        "Show the classification report and confusion matrix"
      ],
      "metadata": {
        "id": "9ZYQCp0AY2BE"
      }
    },
    {
      "cell_type": "code",
      "source": [
        "\n",
        "from sklearn.metrics import classification_report, confusion_matrix\n",
        "print(classification_report(y_test, y_pred))\n",
        "print(confusion_matrix(y_test, y_pred))"
      ],
      "metadata": {
        "colab": {
          "base_uri": "https://localhost:8080/"
        },
        "id": "x5at1bNC6jdF",
        "outputId": "86c11e2b-3c02-4189-e330-11ecbe35779f"
      },
      "execution_count": 174,
      "outputs": [
        {
          "output_type": "stream",
          "name": "stdout",
          "text": [
            "              precision    recall  f1-score   support\n",
            "\n",
            "           0       0.00      0.00      0.00         1\n",
            "           1       0.84      1.00      0.91        74\n",
            "           2       1.00      0.48      0.65        25\n",
            "\n",
            "    accuracy                           0.86       100\n",
            "   macro avg       0.61      0.49      0.52       100\n",
            "weighted avg       0.87      0.86      0.84       100\n",
            "\n",
            "[[ 0  1  0]\n",
            " [ 0 74  0]\n",
            " [ 0 13 12]]\n"
          ]
        },
        {
          "output_type": "stream",
          "name": "stderr",
          "text": [
            "/usr/local/lib/python3.7/dist-packages/sklearn/metrics/_classification.py:1318: UndefinedMetricWarning: Precision and F-score are ill-defined and being set to 0.0 in labels with no predicted samples. Use `zero_division` parameter to control this behavior.\n",
            "  _warn_prf(average, modifier, msg_start, len(result))\n",
            "/usr/local/lib/python3.7/dist-packages/sklearn/metrics/_classification.py:1318: UndefinedMetricWarning: Precision and F-score are ill-defined and being set to 0.0 in labels with no predicted samples. Use `zero_division` parameter to control this behavior.\n",
            "  _warn_prf(average, modifier, msg_start, len(result))\n",
            "/usr/local/lib/python3.7/dist-packages/sklearn/metrics/_classification.py:1318: UndefinedMetricWarning: Precision and F-score are ill-defined and being set to 0.0 in labels with no predicted samples. Use `zero_division` parameter to control this behavior.\n",
            "  _warn_prf(average, modifier, msg_start, len(result))\n"
          ]
        }
      ]
    },
    {
      "cell_type": "markdown",
      "source": [
        "Plot the scatterplot with year and price as x and y axis"
      ],
      "metadata": {
        "id": "H-33rqBPYsHL"
      }
    },
    {
      "cell_type": "code",
      "source": [
        "plt.scatter(df.iloc[a, 5], df.iloc[a, 14],c=y,cmap=plt.cm.Paired) # Note that we use the value of our class as the index of a colour in our colour map\n",
        "plt.xlabel('year')\n",
        "plt.ylabel('price')\n",
        "plt.show()"
      ],
      "metadata": {
        "colab": {
          "base_uri": "https://localhost:8080/",
          "height": 279
        },
        "id": "nBBIhaZZ6jfL",
        "outputId": "c9eb5075-624f-4a26-d345-f8afe83775d1"
      },
      "execution_count": 175,
      "outputs": [
        {
          "output_type": "display_data",
          "data": {
            "text/plain": [
              "<Figure size 432x288 with 1 Axes>"
            ],
            "image/png": "[encoded data removed]"
          },
          "metadata": {
            "needs_background": "light"
          }
        }
      ]
    },
    {
      "cell_type": "markdown",
      "source": [
        "Plot the scatterplot with engine capacity and number of photos as x and y axis"
      ],
      "metadata": {
        "id": "wofj-hR6mR9E"
      }
    },
    {
      "cell_type": "code",
      "source": [
        "plt.scatter(df.iloc[a, 9], df.iloc[a, 16],c=y,cmap=plt.cm.Paired) # Note that we use the value of our class as the index of a colour in our colour map\n",
        "plt.xlabel('engine_capacity')\n",
        "plt.ylabel('number of photos')\n",
        "plt.show()"
      ],
      "metadata": {
        "colab": {
          "base_uri": "https://localhost:8080/",
          "height": 280
        },
        "id": "ANGnHwq_6jhK",
        "outputId": "bf4da321-fe34-4e3b-b27b-48dc5893ebd3"
      },
      "execution_count": 176,
      "outputs": [
        {
          "output_type": "display_data",
          "data": {
            "text/plain": [
              "<Figure size 432x288 with 1 Axes>"
            ],
            "image/png": "[encoded data removed]"
          },
          "metadata": {
            "needs_background": "light"
          }
        }
      ]
    },
    {
      "cell_type": "code",
      "source": [
        "#For you to see how the data is really separated with odometer value\n",
        "plt.scatter(df.iloc[a, 4], df.iloc[a, 16],c=y,cmap=plt.cm.Paired) # Note that we use the value of our class as the index of a colour in our colour map\n",
        "plt.xlabel('odometer value')\n",
        "plt.ylabel('number of photos')\n",
        "plt.show()"
      ],
      "metadata": {
        "colab": {
          "base_uri": "https://localhost:8080/",
          "height": 279
        },
        "id": "qktYIvrFBXdx",
        "outputId": "ba811a4a-496b-4b96-b5b5-e6d8d14388cc"
      },
      "execution_count": 177,
      "outputs": [
        {
          "output_type": "display_data",
          "data": {
            "text/plain": [
              "<Figure size 432x288 with 1 Axes>"
            ],
            "image/png": "[encoded data removed]"
          },
          "metadata": {
            "needs_background": "light"
          }
        }
      ]
    },
    {
      "cell_type": "code",
      "source": [
        "#Let´s create a car with a value for each argument so that we can see\n",
        "#What section of number of kilometers does the classifier predict\n",
        "df.info()\n",
        "transmission = df[\"transmission\"].mean()\n",
        "color = df[\"color\"].mean()       \n",
        "year_produced  = df[\"year_produced\"].mean()\n",
        "engine_fuel = df[\"engine_fuel\"].mean()               \n",
        "engine_has_gas = df[\"engine_has_gas\"].mean()            \n",
        "engine_type = df[\"engine_type\"].mean() \n",
        "engine_capacity = df[\"engine_capacity\"].mean()        \n",
        "body_type = df[\"body_type\"].mean()            \n",
        "has_warranty  = df[\"has_warranty\"].mean()            \n",
        "state = df[\"state\"].mean()               \n",
        "drivetrain  = df[\"drivetrain\"].mean()                   \n",
        "price_usd  = df[\"price_usd\"].mean()               \n",
        "is_exchangeable = df[\"is_exchangeable\"].mean()             \n",
        "number_of_photos = df[\"number_of_photos\"].mean()             \n",
        "duration_listed = df[\"duration_listed\"].mean() \n",
        "up_counter = df[\"up_counter\"].mean()\n",
        "\n",
        "\n",
        "\n",
        "pred_class = classifier.predict([[transmission,color, year_produced, engine_fuel, \n",
        "engine_has_gas, engine_type, engine_capacity, body_type, has_warranty, state, \n",
        "drivetrain, price_usd, is_exchangeable, number_of_photos,up_counter,\n",
        "duration_listed]])\n",
        "\n",
        "print(pred_class)\n"
      ],
      "metadata": {
        "colab": {
          "base_uri": "https://localhost:8080/"
        },
        "id": "gUY5YknV6jjE",
        "outputId": "78f2d4e9-bdea-4a33-a16d-f51c1bcff4b6"
      },
      "execution_count": 178,
      "outputs": [
        {
          "output_type": "stream",
          "name": "stdout",
          "text": [
            "<class 'pandas.core.frame.DataFrame'>\n",
            "RangeIndex: 38531 entries, 0 to 38530\n",
            "Data columns (total 20 columns):\n",
            " #   Column                 Non-Null Count  Dtype  \n",
            "---  ------                 --------------  -----  \n",
            " 0   manufacturer_name      38531 non-null  object \n",
            " 1   model_name             38531 non-null  object \n",
            " 2   transmission           38531 non-null  int64  \n",
            " 3   color                  38531 non-null  int64  \n",
            " 4   odometer_value         38531 non-null  int64  \n",
            " 5   year_produced          38531 non-null  int64  \n",
            " 6   engine_fuel            38531 non-null  int64  \n",
            " 7   engine_has_gas         38531 non-null  int64  \n",
            " 8   engine_type            38531 non-null  int64  \n",
            " 9   engine_capacity        38531 non-null  float64\n",
            " 10  body_type              38531 non-null  int64  \n",
            " 11  has_warranty           38531 non-null  int64  \n",
            " 12  state                  38531 non-null  int64  \n",
            " 13  drivetrain             38531 non-null  int64  \n",
            " 14  price_usd              38531 non-null  float64\n",
            " 15  is_exchangeable        38531 non-null  int64  \n",
            " 16  number_of_photos       38531 non-null  int64  \n",
            " 17  up_counter             38531 non-null  int64  \n",
            " 18  duration_listed        38531 non-null  int64  \n",
            " 19  odometer_value_binned  38531 non-null  int64  \n",
            "dtypes: float64(2), int64(16), object(2)\n",
            "memory usage: 5.9+ MB\n",
            "[1]\n",
            "Train Accuracy : 1.0\n",
            "Test Accuracy : 0.86\n"
          ]
        }
      ]
    },
    {
      "cell_type": "code",
      "source": [
        "print (\"Train Accuracy : \" + str(classifier.score(X_train, y_train)))\n"
      ],
      "metadata": {
        "id": "364HdqLtmitI"
      },
      "execution_count": null,
      "outputs": []
    },
    {
      "cell_type": "code",
      "source": [
        "print (\"Test Accuracy : \" + str(classifier.score(X_test, y_test)))"
      ],
      "metadata": {
        "id": "YRvStjaSmiim"
      },
      "execution_count": null,
      "outputs": []
    },
    {
      "cell_type": "markdown",
      "source": [
        "It seems to be a great accuracy!"
      ],
      "metadata": {
        "id": "RQbMVtzlmn2U"
      }
    }
  ]
}